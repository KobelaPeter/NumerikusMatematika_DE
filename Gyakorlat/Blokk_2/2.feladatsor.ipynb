{
 "cells": [
  {
   "cell_type": "markdown",
   "metadata": {},
   "source": [
    "## <center>2.feladatsor</center>"
   ]
  },
  {
   "cell_type": "markdown",
   "metadata": {},
   "source": [
    "### <center>Norma, kondíciószámok</center>"
   ]
  },
  {
   "cell_type": "markdown",
   "metadata": {},
   "source": [
    "<br>\n",
    "<b>1.feladat.</b> Legyen $x=(10^{200}, 1)$. Számítsuk ki $x$ normáját az alábbi 2 két módon:\n",
    "\n",
    "+ $||x||=\\sqrt{x_1^2+x_2^2}$ és\n",
    "+ $c=\\max\\left\\{|x_1|+|x_2|\\right\\}$, $||x||=c\\cdot\\sqrt{\\left(\\frac{x_1}{c}\\right)^2+\\left(\\frac{x_1}{c}\\right)^2}$.\n",
    "\n",
    "\n"
   ]
  },
  {
   "cell_type": "code",
   "execution_count": null,
   "metadata": {},
   "outputs": [],
   "source": []
  },
  {
   "cell_type": "markdown",
   "metadata": {},
   "source": [
    "<br>\n",
    "<b>2.feladat.</b> A <i>max</i> és <i>abs</i> beépített függvények segítségével írjunk programot <i>p_max_norma.m</i> fájl néven, amely egy adott valós $x$ vektor felhasználó által kért $p$-normáját és maximumnormáját kiszámolja!"
   ]
  },
  {
   "cell_type": "code",
   "execution_count": null,
   "metadata": {},
   "outputs": [],
   "source": []
  },
  {
   "cell_type": "code",
   "execution_count": null,
   "metadata": {},
   "outputs": [],
   "source": []
  },
  {
   "cell_type": "markdown",
   "metadata": {},
   "source": [
    "<br>\n",
    "<b>3.feladat.</b> A <i>switch-case</i> szerkezet segítségével írjunk programot <i>indukaltmatrixnorma.m</i> fájl néven, mely adott négyzetes mátrixra és az egyes, kettes vagy vegtelen szavak input begépelése után kiszámolja $||A||_1$, $||A||_2$ vagy $||A||_{\\infty}$ normáját! Ha nem négyzetes mátrixot vagy a fenti sztringek valamilyék adjuk meg, akkor a programunk adjon vissza hibaüzenetet!"
   ]
  },
  {
   "cell_type": "code",
   "execution_count": null,
   "metadata": {},
   "outputs": [],
   "source": []
  },
  {
   "cell_type": "code",
   "execution_count": null,
   "metadata": {},
   "outputs": [],
   "source": []
  },
  {
   "cell_type": "markdown",
   "metadata": {},
   "source": [
    "<br>\n",
    "<b>4.feladat.</b> Tekintsük a második derivált közelítésére szolgáló centrális véges differenciahányadoshoz tartozó \n",
    "<br>\n",
    "\n",
    " $$A_n=\\begin{pmatrix} \n",
    "    2 & -1 &  &  &  \\\\\n",
    "    -1 & 2 & -1 &  & \\\\\n",
    "     & \\ddots & \\ddots & \\ddots & \\\\\n",
    "     &   & -1 & 2 & -1 \\\\\n",
    "     &  &  & -1 & 2\n",
    "    \\end{pmatrix}\\in\\mathbb{R}^{n \\times n}$$\n",
    "<br>\n",
    "mátrixot, illetve az ún.\n",
    " $$H_n=\\begin{pmatrix} \n",
    "     1 & 1/2 & 1/3 & \\dots & 1/n \\\\\n",
    "     1/2 & 1/3 & 1/4 & \\dots & 1/(n+1)\\\\\n",
    "     1/3 & 1/4 & 1/5 & \\dots & 1/(n+2)\\\\\n",
    "     \\vdots & & & & \\vdots \\\\\n",
    "     1/n & 1/(n+1) & 1/(n+2) & \\dots & 1/(2n-1)\n",
    "      \\end{pmatrix}\\in\\mathbb{R}^{n \\times n}$$\n",
    "<br>\n",
    "\n",
    "Hilbert-mátrixot. Írjunk programot <i>speckondi.m</i> fájl néven, amely az alábbi két mátrix kettes kondíciószámát, valamint a <i>condest</i> értékét adja vissza adott $n$-re!"
   ]
  },
  {
   "cell_type": "code",
   "execution_count": null,
   "metadata": {},
   "outputs": [],
   "source": []
  },
  {
   "cell_type": "code",
   "execution_count": null,
   "metadata": {},
   "outputs": [],
   "source": []
  },
  {
   "cell_type": "markdown",
   "metadata": {},
   "source": [
    "<br>\n",
    "<b>5.feladat.</b> Állítsuk elő azt az $A\\in\\mathbb{R}^{100 \\times 100}$ mátrixot, melynek elemei az\n",
    "<br>\n",
    "\n",
    "$$\n",
    "a_{ij}=\n",
    "\\begin{cases}\n",
    "1, \\text{ha}\\ i=j\\\\\n",
    "-1, \\text{ha}\\ i<j\\\\\n",
    "0, \\text{egyébként}\n",
    "\\end{cases}\n",
    "$$\n",
    "<br>\n",
    "\n",
    "értékek. A lineáris algebrai egyenletrendszer jobboldali vektora $b=\\left(-98,-97,\\ldots,0,1\\right)^T$. Pertulbáljuk a $b$ vektort úgy, hogy annak utolsó eleme $1$ helyett $1.0001$. Az előadáson tanultak fényében döntsük el, hogy a lineáris algebrai egyenletrendszer rosszul kondícionált-e vagy sem! Ehhez hasznájuk a \n",
    "<br>\n",
    "\n",
    "$$\n",
    "\\text{cond}_p(A)\\frac{||\\delta b||_p}{||b||_p}\\geq 1\n",
    "$$\n",
    "becslést!"
   ]
  },
  {
   "cell_type": "code",
   "execution_count": null,
   "metadata": {},
   "outputs": [],
   "source": []
  },
  {
   "cell_type": "code",
   "execution_count": null,
   "metadata": {
    "collapsed": true
   },
   "outputs": [],
   "source": []
  }
 ],
 "metadata": {
  "kernelspec": {
   "display_name": "Octave",
   "language": "octave",
   "name": "octave"
  },
  "language_info": {
   "file_extension": ".m",
   "help_links": [
    {
     "text": "GNU Octave",
     "url": "https://www.gnu.org/software/octave/support.html"
    },
    {
     "text": "Octave Kernel",
     "url": "https://github.com/Calysto/octave_kernel"
    },
    {
     "text": "MetaKernel Magics",
     "url": "https://metakernel.readthedocs.io/en/latest/source/README.html"
    }
   ],
   "mimetype": "text/x-octave",
   "name": "octave",
   "version": "5.1.0"
  }
 },
 "nbformat": 4,
 "nbformat_minor": 2
}
