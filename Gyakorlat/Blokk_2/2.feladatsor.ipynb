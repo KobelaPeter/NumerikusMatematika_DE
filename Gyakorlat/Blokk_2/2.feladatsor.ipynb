{
 "cells": [
  {
   "cell_type": "markdown",
   "metadata": {},
   "source": [
    "## <center>2.feladatsor</center>"
   ]
  },
  {
   "cell_type": "markdown",
   "metadata": {},
   "source": [
    "### <center>Norma, kondíciószámok</center>"
   ]
  },
  {
   "cell_type": "markdown",
   "metadata": {},
   "source": [
    "<br>\n",
    "<b>1.feladat.</b> Legyen $x=(10^{200}, 1)$. Számítsuk ki $x$ normáját az alábbi 2 két módon:\n",
    "\n",
    "+ $||x||=\\sqrt{x_1^2+x_2^2}$ és\n",
    "+ $c=\\max\\left\\{|x_1|+|x_2|\\right\\}$, $||x||=c\\cdot\\sqrt{\\left(\\frac{x_1}{c}\\right)^2+\\left(\\frac{x_1}{c}\\right)^2}$.\n",
    "\n",
    "\n"
   ]
  },
  {
   "cell_type": "code",
   "execution_count": 3,
   "metadata": {},
   "outputs": [
    {
     "name": "stdout",
     "output_type": "stream",
     "text": [
      "x_norma_1 =  Inf\n",
      "x_norma_2 =   1.0000e+200\n"
     ]
    }
   ],
   "source": [
    "x=[10^200, 1];\n",
    "x_norma_1=sqrt(x(1)^2+x(2)^2) % vagy (x(1)^2+x(2)^2)^(1/2)\n",
    "c=max(abs(x(1)),abs(x(2))); \n",
    "x_norma_2=c*sqrt((x(1)/c)^2+(x(2)/c)^2)"
   ]
  },
  {
   "cell_type": "markdown",
   "metadata": {},
   "source": [
    "<br>\n",
    "<b>2.feladat.</b> A <i>max</i> és <i>abs</i> beépített függvények segítségével írjunk programot <i>p_max_norma.m</i> fájl néven, amely egy adott valós $x$ vektor felhasználó által kért $p$-normáját és maximumnormáját kiszámolja!"
   ]
  },
  {
   "cell_type": "code",
   "execution_count": 2,
   "metadata": {},
   "outputs": [
    {
     "name": "stdout",
     "output_type": "stream",
     "text": [
      "x =\n",
      "\n",
      "   1   2  -3\n",
      "\n",
      "p =  11\n",
      "norma_p =  3.003138080795621\n",
      "norma_max =  3\n"
     ]
    }
   ],
   "source": [
    "format long\n",
    "x=[1 2 -3]\n",
    "p=11\n",
    "norma_p=(sum(abs(x).^p))^(1/p)\n",
    "norma_max=max(abs(x))\n",
    "\n",
    "% Fedezzuk fel a max, abs parancsokat!\n",
    "% Mondjuk el a beepitett norm(x,p) es norm(x,'inf') parancsokat is!"
   ]
  },
  {
   "cell_type": "code",
   "execution_count": 4,
   "metadata": {},
   "outputs": [
    {
     "name": "stdout",
     "output_type": "stream",
     "text": [
      "norma_p =  3.00313808079562\n",
      "norma_max =  3\n"
     ]
    }
   ],
   "source": [
    "[norma_p, norma_max]=p_max_norma([1 2 -3],11)"
   ]
  },
  {
   "cell_type": "markdown",
   "metadata": {},
   "source": [
    "<br>\n",
    "<b>3.feladat.</b> A <i>switch-case</i> szerkezet segítségével írjunk programot <i>indukaltmatrixnorma.m</i> fájl néven, mely adott négyzetes mátrixra és az egyes, kettes vagy vegtelen szavak input begépelése után kiszámolja $||A||_1$, $||A||_2$ vagy $||A||_{\\infty}$ normáját! Ha nem négyzetes mátrixot vagy a fenti sztringek valamilyék adjuk meg, akkor a programunk adjon vissza hibaüzenetet!"
   ]
  },
  {
   "cell_type": "code",
   "execution_count": 2,
   "metadata": {},
   "outputs": [
    {
     "name": "stdout",
     "output_type": "stream",
     "text": [
      "A =\n",
      "\n",
      "   2   3\n",
      "  -1   5\n",
      "   2   3\n",
      "\n",
      "Negyzetes\n"
     ]
    }
   ],
   "source": [
    "% switch-szerkezet felfedezese, sztring, nemegyenlo, if-else szerkezet\n",
    "% elotte norm matrixokra\n",
    "\n",
    "A=[2 3; -1 5; 2 3]\n",
    "\n",
    "if size(A,1) == size(A,1)\n",
    "   disp('Negyzetes')\n",
    "   else\n",
    "   disp('Nem negyzetes')\n",
    "end"
   ]
  },
  {
   "cell_type": "code",
   "execution_count": 5,
   "metadata": {},
   "outputs": [
    {
     "name": "stdout",
     "output_type": "stream",
     "text": [
      "Kerlek negyzetes matrixot gepelj be!\n"
     ]
    }
   ],
   "source": [
    "indukaltmatrixnorma([1 2; 4 6; 2 2],'egyes')"
   ]
  },
  {
   "cell_type": "markdown",
   "metadata": {},
   "source": [
    "<br>\n",
    "<b>4.feladat.</b> Tekintsük a második derivált közelítésére szolgáló centrális véges differenciahányadoshoz tartozó \n",
    "<br>\n",
    "\n",
    " $$A_n=\\begin{pmatrix} \n",
    "    2 & -1 &  &  &  \\\\\n",
    "    -1 & 2 & -1 &  & \\\\\n",
    "     & \\ddots & \\ddots & \\ddots & \\\\\n",
    "     &   & -1 & 2 & -1 \\\\\n",
    "     &  &  & -1 & 2\n",
    "    \\end{pmatrix}\\in\\mathbb{R}^{n \\times n}$$\n",
    "<br>\n",
    "mátrixot, illetve az ún.\n",
    " $$H_n=\\begin{pmatrix} \n",
    "     1 & 1/2 & 1/3 & \\dots & 1/n \\\\\n",
    "     1/2 & 1/3 & 1/4 & \\dots & 1/(n+1)\\\\\n",
    "     1/3 & 1/4 & 1/5 & \\dots & 1/(n+2)\\\\\n",
    "     \\vdots & & & & \\vdots \\\\\n",
    "     1/n & 1/(n+1) & 1/(n+2) & \\dots & 1/(2n-1)\n",
    "      \\end{pmatrix}\\in\\mathbb{R}^{n \\times n}$$\n",
    "<br>\n",
    "\n",
    "Hilbert-mátrixot. Írjunk programot <i>speckondi.m</i> fájl néven, amely az alábbi két mátrix kettes kondíciószámát, valamint a <i>condest</i> értékét adja vissza adott $n$-re!"
   ]
  },
  {
   "cell_type": "code",
   "execution_count": 24,
   "metadata": {},
   "outputs": [
    {
     "name": "stdout",
     "output_type": "stream",
     "text": [
      "ans =  13.92820323027551\n",
      "ans =  476607.2502418646\n",
      "ans =  17.99999999999999\n",
      "ans =  943655.9999992513\n"
     ]
    }
   ],
   "source": [
    "format long\n",
    "N=5;\n",
    "e=ones(N,1);\n",
    "A=spdiags([-e 2*e -e], [-1 0 1], N, N); % spdiags felfedezese\n",
    "\n",
    "for i=1:N\n",
    "    for j=1:N\n",
    "        H(i,j)=1/(i+j-1);\n",
    "    end\n",
    "end\n",
    "\n",
    "cond(A,2)\n",
    "cond(H,2)\n",
    "\n",
    "\n",
    "condest(A) %nezzuk meg helpben, hogy mire valo\n",
    "condest(H)\n",
    "% hilb(5) % a beepiett parancs a Hilbert matrixra"
   ]
  },
  {
   "cell_type": "code",
   "execution_count": 6,
   "metadata": {},
   "outputs": [
    {
     "name": "stdout",
     "output_type": "stream",
     "text": [
      "cond_A_2 =  13.9282032302755\n",
      "cond_H_2 =  476607.250243310\n",
      "condest_A_2 =  18.0000000000000\n",
      "condest_H_2 =  943655.999999934\n"
     ]
    }
   ],
   "source": [
    "[cond_A_2, cond_H_2, condest_A_2, condest_H_2]=speckondi(5)"
   ]
  },
  {
   "cell_type": "markdown",
   "metadata": {},
   "source": [
    "<br>\n",
    "<b>5.feladat.</b> Állítsuk elő azt az $A\\in\\mathbb{R}^{100 \\times 100}$ mátrixot, melynek elemei az\n",
    "<br>\n",
    "\n",
    "$$\n",
    "a_{ij}=\n",
    "\\begin{cases}\n",
    "1, \\text{ha}\\ i=j\\\\\n",
    "-1, \\text{ha}\\ i<j\\\\\n",
    "0, \\text{egyébként}\n",
    "\\end{cases}\n",
    "$$\n",
    "<br>\n",
    "\n",
    "értékek. A lineáris algebrai egyenletrendszer jobboldali vektora $b=\\left(-98,-97,\\ldots,0,1\\right)^T$. Pertulbáljuk a $b$ vektort úgy, hogy annak utolsó eleme $1$ helyett $1.0001$. Az előadáson tanultak fényében döntsük el, hogy a lineáris algebrai egyenletrendszer rosszul kondícionált-e vagy sem! Ehhez hasznájuk a \n",
    "<br>\n",
    "\n",
    "$$\n",
    "\\text{cond}_p(A)\\frac{||\\delta b||_p}{||b||_p}\\geq 1\n",
    "$$\n",
    "becslést!"
   ]
  },
  {
   "cell_type": "code",
   "execution_count": 4,
   "metadata": {},
   "outputs": [
    {
     "name": "stdout",
     "output_type": "stream",
     "text": [
      "masodik_1 =  14746.66883\n",
      "masodik_2 =  28668.09870\n",
      "masodik_inf =  229064.92245\n"
     ]
    }
   ],
   "source": [
    "N=32; A=diag(ones(N,1))+triu(-ones (N), 1);\n",
    "b=[N-2:-1:0]; b=[-b 1]';\n",
    "delta_b=[zeros(1,N-1) 0.0001]';\n",
    "masodik_1=cond(A,1)*norm(delta_b,1)/norm(b,1)\n",
    "masodik_2=cond(A,2)*norm(delta_b,2)/norm(b,2)\n",
    "masodik_inf=cond(A,'inf')*norm(delta_b,'inf')/norm(b,'inf')\n"
   ]
  },
  {
   "cell_type": "code",
   "execution_count": 2,
   "metadata": {},
   "outputs": [
    {
     "name": "stdout",
     "output_type": "stream",
     "text": [
      "N =  11\n",
      "H =\n",
      "\n",
      "  -1  -1  -1  -1  -1  -1  -1  -1  -1  -1  -1\n",
      "   0  -1  -1  -1  -1  -1  -1  -1  -1  -1  -1\n",
      "   0   0  -1  -1  -1  -1  -1  -1  -1  -1  -1\n",
      "   0   0   0  -1  -1  -1  -1  -1  -1  -1  -1\n",
      "   0   0   0   0  -1  -1  -1  -1  -1  -1  -1\n",
      "   0   0   0   0   0  -1  -1  -1  -1  -1  -1\n",
      "   0   0   0   0   0   0  -1  -1  -1  -1  -1\n",
      "   0   0   0   0   0   0   0  -1  -1  -1  -1\n",
      "   0   0   0   0   0   0   0   0  -1  -1  -1\n",
      "   0   0   0   0   0   0   0   0   0  -1  -1\n",
      "   0   0   0   0   0   0   0   0   0   0  -1\n",
      "\n"
     ]
    }
   ],
   "source": [
    "N=11\n",
    "for i=1:N\n",
    "    for j=1:i\n",
    "        H(j,i)=1/(-1);\n",
    "    end\n",
    "end\n",
    "H"
   ]
  },
  {
   "cell_type": "code",
   "execution_count": null,
   "metadata": {},
   "outputs": [],
   "source": []
  },
  {
   "cell_type": "code",
   "execution_count": null,
   "metadata": {},
   "outputs": [],
   "source": []
  }
 ],
 "metadata": {
  "kernelspec": {
   "display_name": "Octave",
   "language": "octave",
   "name": "octave"
  },
  "language_info": {
   "file_extension": ".m",
   "help_links": [
    {
     "text": "GNU Octave",
     "url": "https://www.gnu.org/software/octave/support.html"
    },
    {
     "text": "Octave Kernel",
     "url": "https://github.com/Calysto/octave_kernel"
    },
    {
     "text": "MetaKernel Magics",
     "url": "https://github.com/calysto/metakernel/blob/master/metakernel/magics/README.md"
    }
   ],
   "mimetype": "text/x-octave",
   "name": "octave",
   "version": "4.2.2"
  }
 },
 "nbformat": 4,
 "nbformat_minor": 2
}
