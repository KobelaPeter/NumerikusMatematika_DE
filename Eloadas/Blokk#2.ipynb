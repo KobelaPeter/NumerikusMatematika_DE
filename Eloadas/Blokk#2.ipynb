{
 "cells": [
  {
   "cell_type": "markdown",
   "metadata": {},
   "source": [
    "# <center>Lineáris algebrai egyenletrendszerek</center>\n",
    "## <center>Norma, kondíciószám</center>"
   ]
  },
  {
   "cell_type": "code",
   "execution_count": 1,
   "metadata": {},
   "outputs": [
    {
     "name": "stdout",
     "output_type": "stream",
     "text": [
      "A =\r\n",
      "\r\n",
      "   1  -1  -1  -1  -1  -1  -1  -1  -1  -1\r\n",
      "   0   1  -1  -1  -1  -1  -1  -1  -1  -1\r\n",
      "   0   0   1  -1  -1  -1  -1  -1  -1  -1\r\n",
      "   0   0   0   1  -1  -1  -1  -1  -1  -1\r\n",
      "   0   0   0   0   1  -1  -1  -1  -1  -1\r\n",
      "   0   0   0   0   0   1  -1  -1  -1  -1\r\n",
      "   0   0   0   0   0   0   1  -1  -1  -1\r\n",
      "   0   0   0   0   0   0   0   1  -1  -1\r\n",
      "   0   0   0   0   0   0   0   0   1  -1\r\n",
      "   0   0   0   0   0   0   0   0   0   1\r\n",
      "\r\n"
     ]
    }
   ],
   "source": [
    "N=10;\n",
    "A=diag(ones(N,1))+triu(-ones (N), 1)\n",
    "b=[N-2:-1:0];\n",
    "b=[-b 1]';\n",
    "x=A\\b;\n",
    "max(x);"
   ]
  },
  {
   "cell_type": "code",
   "execution_count": 3,
   "metadata": {},
   "outputs": [
    {
     "name": "stdout",
     "output_type": "stream",
     "text": [
      "x =\n",
      "\n",
      "   1.0256\n",
      "   1.0128\n",
      "   1.0064\n",
      "   1.0032\n",
      "   1.0016\n",
      "   1.0008\n",
      "   1.0004\n",
      "   1.0002\n",
      "   1.0001\n",
      "   1.0001\n",
      "\n",
      "ans =  1.0256\n"
     ]
    }
   ],
   "source": [
    "b=[N-2:-1:0];\n",
    "b=[-b 1.0001]'; %% Megvaltoztatjuk az utolso elemet\n",
    "x=A\\b\n",
    "max(x)"
   ]
  },
  {
   "cell_type": "code",
   "execution_count": 7,
   "metadata": {},
   "outputs": [
    {
     "name": "stdout",
     "output_type": "stream",
     "text": [
      "x =\n",
      "\n",
      "  -4\n",
      "   1\n",
      "   8\n",
      "\n",
      "ans =  13\n",
      "ans =  9\n",
      "ans =  8\n"
     ]
    }
   ],
   "source": [
    "x=[-4 1 8]'\n",
    "norm(x,1)\n",
    "norm(x,2)\n",
    "norm(x,'inf')"
   ]
  },
  {
   "cell_type": "markdown",
   "metadata": {},
   "source": [
    "###  A sík egységkörei ($p=1,2\\ \\infty$)\n",
    "\n",
    "<img src=\"unitballs.png\" width=\"870\">\n",
    "\n"
   ]
  },
  {
   "cell_type": "code",
   "execution_count": 58,
   "metadata": {},
   "outputs": [],
   "source": [
    "% MATLAB animacio bemutatasa altalanos p-re"
   ]
  },
  {
   "cell_type": "code",
   "execution_count": 10,
   "metadata": {},
   "outputs": [
    {
     "name": "stdout",
     "output_type": "stream",
     "text": [
      "A =\n",
      "\n",
      "   -4    3    4\n",
      "    5   11  -12\n",
      "    0    1    6\n",
      "\n",
      "ans =  22\n",
      "ans =  28\n"
     ]
    }
   ],
   "source": [
    "A=[-4 3 4; 5 11 -12; 0 1 6]\n",
    "norm(A,1)\n",
    "norm(A,'inf')"
   ]
  },
  {
   "cell_type": "code",
   "execution_count": 17,
   "metadata": {},
   "outputs": [
    {
     "name": "stdout",
     "output_type": "stream",
     "text": [
      "A =\n",
      "\n",
      "   3  -1\n",
      "  -2   2\n",
      "\n",
      "ans =  4.1306\n"
     ]
    }
   ],
   "source": [
    "A=[3 -1; -2 2]\n",
    "norm(A,2)"
   ]
  },
  {
   "cell_type": "code",
   "execution_count": 2,
   "metadata": {},
   "outputs": [
    {
     "name": "stdout",
     "output_type": "stream",
     "text": [
      "A =\n",
      "\n",
      "   1.0000   1.0000\n",
      "   1.0000   1.0100\n",
      "\n",
      "ans =  404.01\n",
      "ans =  402.01\n",
      "ans =  404.01\n"
     ]
    }
   ],
   "source": [
    "A=[1 1; 1 1.01]\n",
    "cond(A,1)\n",
    "cond(A,2)\n",
    "cond(A,'inf')"
   ]
  },
  {
   "cell_type": "code",
   "execution_count": 34,
   "metadata": {},
   "outputs": [
    {
     "name": "stdout",
     "output_type": "stream",
     "text": [
      "ans =  68719476736\n",
      "ans =  27877422859.77620\n",
      "ans =  68719476736\n"
     ]
    }
   ],
   "source": [
    "N=32;\n",
    "A=diag(ones(N,1))+triu(-ones (N), 1);\n",
    "cond(A,1)\n",
    "cond(A,2)\n",
    "cond(A,'inf')"
   ]
  },
  {
   "cell_type": "code",
   "execution_count": 35,
   "metadata": {},
   "outputs": [
    {
     "name": "stdout",
     "output_type": "stream",
     "text": [
      "elso_1 =  10.075\n",
      "elso_2 =  14.178\n",
      "elso_inf =  20.100\n",
      "masodik_1 =  14746.66883\n",
      "masodik_2 =  28668.09870\n",
      "masodik_inf =  229064.92245\n"
     ]
    }
   ],
   "source": [
    "A=[1 1; 1 1.01];\n",
    "b=[2 2.01]';\n",
    "delta_b=[0 0.1]';\n",
    "elso_1=cond(A,1)*norm(delta_b,1)/norm(b,1)\n",
    "elso_2=cond(A,2)*norm(delta_b,2)/norm(b,2)\n",
    "elso_inf=cond(A,'inf')*norm(delta_b,'inf')/norm(b,'inf')\n",
    "\n",
    "N=32; A=diag(ones(N,1))+triu(-ones (N), 1);\n",
    "b=[N-2:-1:0]; b=[-b 1]';\n",
    "delta_b=[zeros(1,N-1) 0.0001]';\n",
    "masodik_1=cond(A,1)*norm(delta_b,1)/norm(b,1)\n",
    "masodik_2=cond(A,2)*norm(delta_b,2)/norm(b,2)\n",
    "masodik_inf=cond(A,'inf')*norm(delta_b,'inf')/norm(b,'inf')"
   ]
  },
  {
   "cell_type": "markdown",
   "metadata": {},
   "source": [
    "## <center>Direkt megoldási módszerek</center>"
   ]
  },
  {
   "cell_type": "code",
   "execution_count": 6,
   "metadata": {},
   "outputs": [
    {
     "name": "stdout",
     "output_type": "stream",
     "text": [
      "   2.00   0.06\n",
      "   4.00   0.00\n",
      "   8.00   0.00\n",
      "   16.00    0.01\n",
      "   32.00    0.00\n",
      "   64.00    0.00\n",
      "   128.00     0.03\n",
      "   256.00     0.01\n",
      "   512.00     0.02\n",
      "   1024.00      0.13\n",
      "   2048.00      0.79\n",
      "   4096.00      4.55\n",
      "   8192.00     36.98\n",
      "   16384.00     724.64\n"
     ]
    },
    {
     "data": {
      "image/png": "[encoded data removed]",
      "text/plain": [
       "<IPython.core.display.Image object>"
      ]
     },
     "metadata": {},
     "output_type": "display_data"
    }
   ],
   "source": [
    "format bank\n",
    "for j=1:14\n",
    "    N=2^j;\n",
    "    A=randn(N);\n",
    "    tic\n",
    "    A\\ones(N,1);\n",
    "    t=toc;\n",
    "    disp([N,t]);\n",
    "    dim(j)=N;\n",
    "    time(j)=t;\n",
    "end\n",
    "plot(dim,time,'-')\n",
    "xlabel('Egyenlet dimenzioja')\n",
    "ylabel('Ido (sec)')"
   ]
  },
  {
   "cell_type": "code",
   "execution_count": 8,
   "metadata": {},
   "outputs": [
    {
     "data": {
      "image/png": "[encoded data removed]",
      "text/plain": [
       "<IPython.core.display.Image object>"
      ]
     },
     "metadata": {},
     "output_type": "display_data"
    }
   ],
   "source": [
    "loglog(dim,time,'.-')\n",
    "hold on \n",
    "loglog(dim,1e-10*dim.^3, 'r--')\n",
    "ylim([1e-5 1e2])\n",
    "xlabel('Dimenzio')\n",
    "ylabel('Ido (masodperc)')\n",
    "title('A beepitett A\\b megoldo','fontsize',18)\n",
    "% gtext('N^3','fontsize',18,'color','k') % Add this line if you have MATLAB"
   ]
  },
  {
   "cell_type": "markdown",
   "metadata": {},
   "source": [
    "<a href=\"https://www.top500.org/system/178513\">Hivatalos TOP500 Link a debreceni Leo szuperszámítógéphez</a>"
   ]
  },
  {
   "cell_type": "markdown",
   "metadata": {},
   "source": [
    "<br>\n",
    "\n",
    "<div style=\"width:870 px\"></div>\n",
    "<div style=\"float:left\"><img src=\"db2_building_front.jpg\" width=\"350\"/></div>\n",
    "<div style=\"float:left\"><img src=\"db2_1.jpg\" width=\"500\"/></div>\n",
    "<div style=\"clear:both\"></div> \n",
    "<br>\n",
    "<br> "
   ]
  },
  {
   "cell_type": "code",
   "execution_count": 9,
   "metadata": {},
   "outputs": [
    {
     "name": "stdout",
     "output_type": "stream",
     "text": [
      "A =\n",
      "\n",
      "    5.00    7.00    3.00\n",
      "    7.00   11.00    2.00\n",
      "    3.00    2.00    6.00\n",
      "\n",
      "ans =\n",
      "\n",
      "    0.01\n",
      "    5.33\n",
      "   16.66\n",
      "\n",
      "L =\n",
      "\n",
      "   1.00   0.00   0.00\n",
      "   1.40   1.00   0.00\n",
      "   0.60  -1.83   1.00\n",
      "\n",
      "U =\n",
      "\n",
      "   5.00   7.00   3.00\n",
      "   0.00   1.20  -2.20\n",
      "   0.00   0.00   0.17\n",
      "\n",
      "ans =\n",
      "\n",
      "   5.00   7.00   3.00\n",
      "   0.00   1.20  -2.20\n",
      "   0.00   0.00   0.17\n",
      "\n"
     ]
    }
   ],
   "source": [
    "% Pelda a Cholesky-felbontasra\n",
    "A=[5 7 3; 7 11 2; 3 2 6]\n",
    "eig(A)\n",
    "L=[1 0 0; 7/5 1 0; 3/5 -11/6 1]\n",
    "U=[5 7 3; 0 6/5 -11/5; 0 0 1/6]\n",
    "diag(diag(U))*L'"
   ]
  },
  {
   "cell_type": "markdown",
   "metadata": {},
   "source": [
    "<br>\n",
    "\n",
    "Az $Ax=b$ LAER direkt megoldása a <a href=\"https://www.mathworks.com/help/matlab/ref/mldivide.html\">backslah</a> operátor segítségével, azaz $x=A \\backslash b$\n",
    "<br>\n",
    "Teli mátrix esete\n",
    "<img src=\"backslahteli.png\" width=\"400\">\n",
    "<br>\n",
    "Ritka mátrix esete\n",
    "<img src=\"backslahritka.png\" width=\"400\">\n",
    "\n",
    "<br>"
   ]
  },
  {
   "cell_type": "code",
   "execution_count": null,
   "metadata": {},
   "outputs": [],
   "source": []
  },
  {
   "cell_type": "code",
   "execution_count": null,
   "metadata": {},
   "outputs": [],
   "source": []
  }
 ],
 "metadata": {
  "kernelspec": {
   "display_name": "Octave",
   "language": "octave",
   "name": "octave"
  },
  "language_info": {
   "file_extension": ".m",
   "help_links": [
    {
     "text": "GNU Octave",
     "url": "https://www.gnu.org/software/octave/support.html"
    },
    {
     "text": "Octave Kernel",
     "url": "https://github.com/Calysto/octave_kernel"
    },
    {
     "text": "MetaKernel Magics",
     "url": "https://metakernel.readthedocs.io/en/latest/source/README.html"
    }
   ],
   "mimetype": "text/x-octave",
   "name": "octave",
   "version": "5.1.0"
  }
 },
 "nbformat": 4,
 "nbformat_minor": 2
}
