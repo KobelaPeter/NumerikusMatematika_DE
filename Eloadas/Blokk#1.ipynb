{
 "cells": [
  {
   "cell_type": "markdown",
   "metadata": {},
   "source": [
    "# <center>Numerikus Matematika</center>\n",
    "## <center>Gazdaságinformatikus BSc</center>\n",
    "\n",
    "### <center>2020. tavasz</center>\n",
    "\n",
    "<img src=\"cimer.png\" width=\"400\">\n",
    "<br>\n",
    "<br>\n"
   ]
  },
  {
   "cell_type": "markdown",
   "metadata": {},
   "source": [
    "## <center>Fekete Imre<br><br> Alkalmazott Matematika és Valószínűségszámítás Tanszék<br></center>\n",
    "\n",
    "\n",
    "\n",
    "### Általános információk:\n",
    "+ Email: fekete.imre@zimbra.inf.unideb.hu\n",
    "+ Honlap: <a href=\"http://imrefekete.web.elte.hu/\" target=\"_blank\">http://imrefekete.web.elte.hu/</a>\n",
    "+ A kurzushoz kapcsolódó minden anyag megtalálható a <a href=\"https://github.com/feipaat/NumerikusMatematika_DE\">https://github.com/feipaat/NumerikusMatematika_DE</a> kurzus GitHub mappájában.\n",
    "+ Fogadóórák: K 10-11 és Cs 12-13\n",
    "+ <span class=\"fa fa-building-o\"></span> 2. emelet, I210</li>\n",
    "\n",
    "### Gyakorlatvezetők:\n",
    "+ Fekete Imre\n",
    "+ Pecsora Sándor (https://inf.unideb.hu honlapon keresztül)\n",
    "+ Szabó Marianna (szabo.marianna@zimbra.inf.unideb.hu)\n",
    "\n",
    "\n",
    "\n",
    "### Számonkérés:\n",
    "\n",
    "+ 2 db elméleti zárthelyi; 2 db Octave zárthelyi\n",
    "+ A pontos feltéleket lásd a <a href=\"https://github.com/feipaat/NumerikusMatematika_DE/blob/master/Syllabus.pdf\">Syllabus</a> pdf fájlban.\n",
    "<br>\n",
    "<br>\n",
    "\n",
    "\n",
    "### 3 kívánság a félévre vonatkozóan:\n",
    "<br>\n",
    "\n",
    "<div style=\"width:870 px\"></div>\n",
    "<div style=\"float:left\"><img src=\"questions.jpg\" width=\"450\" title=\"Bátran kérdezzünk!\"/></div>\n",
    "<div style=\"float:left\"><img src=\"practice.jpg\" width=\"400\" title=\"Gyakorlat teszi a mestert!\"/></div>\n",
    "<div style=\"float:left\"><img src=\"positive.jpg\" width=\"870\" title=\"A jó légkör sem árt!\"/></div> \n",
    "<div style=\"clear:both\"></div> \n",
    "<br>\n",
    "<br> \n",
    "\n",
    "### Bevezető Octave\n",
    "+ <a href=\"https://www.gnu.org/software/octave/\">Hivatalos Link</a>\n",
    "+ Tamás Melinda, Pataki Gergely, Paulik Beáta, Sajó Endre Tamás, Englert Péter: <a href=\"http://nyelvek.inf.elte.hu/leirasok/Octave/\">A GNU Octave programozási nyelv</a>\n",
    "\n",
    "### Bevezető MATLAB\n",
    "+  <a href=\"https://www.mathworks.com/products/matlab.html\">Hivatalos Link</a>\n",
    "+ Stoyan Gisbert: MATLAB (magyar nyelvű)\n",
    "<br>\n",
    "<br>"
   ]
  },
  {
   "cell_type": "markdown",
   "metadata": {},
   "source": [
    "## Motiváció\n",
    "<img src=\"modell.jpg\" width=\"870\" title=\"Thom Dunning Jr., SciDAC programme (200)\">\n",
    "\n",
    "\n",
    "<br>\n",
    "<br> \n",
    "<br>\n",
    "<br> "
   ]
  },
  {
   "cell_type": "markdown",
   "metadata": {},
   "source": [
    "# <center>Gépi matematika</center>\n",
    "## <center>Lebegőpontos számábrázolás, alapműveletek, példák stabil/instabil eljárásokra</center>"
   ]
  },
  {
   "cell_type": "code",
   "execution_count": 36,
   "metadata": {},
   "outputs": [
    {
     "name": "stdout",
     "output_type": "stream",
     "text": [
      "ans =    2.220446049250313e-16\n",
      "ans =    4.440892098500626e-16\n"
     ]
    }
   ],
   "source": [
    "eps\n",
    "eps(2)"
   ]
  },
  {
   "cell_type": "markdown",
   "metadata": {},
   "source": [
    "##  Példa \n",
    "###  $M(2,4,-3,2)$\n",
    "\n",
    "\n",
    "\n",
    "\n",
    "| | $k=0$ | $k=1$ | $k=2$ | $k=-1$ | $k=-2$ | $k=-3$ | \n",
    "| --- | --- | --- | --- | --- | --- | --- | \n",
    "| $0.1000$ | $\\frac{8}{16}$ | $\\frac{8}{8}$ | $\\frac{8}{4}$ | $\\frac{8}{32}$ | $\\frac{8}{64}$ | $\\frac{8}{128}$ |\n",
    "| $0.1001$ | $\\frac{9}{16}$ | $\\frac{9}{8}$ | $\\frac{9}{4}$ | $\\frac{9}{32}$ | $\\frac{9}{64}$ | $\\frac{9}{128}$ |\n",
    "| $0.1010$ | $\\frac{10}{16}$ | $\\frac{10}{8}$ | $\\frac{10}{4}$ | $\\frac{10}{32}$ | $\\frac{10}{64}$ | $\\frac{10}{128}$|\n",
    "| $0.1011$ | $\\frac{11}{16}$ | $\\frac{11}{8}$ | $\\frac{11}{4}$ | $\\frac{11}{32}$ | $\\frac{11}{64}$ | $\\frac{11}{128}$|\n",
    "| $0.1100$ | $\\frac{12}{16}$ | $\\frac{12}{8}$ | $\\frac{12}{4}$ | $\\frac{12}{32}$ | $\\frac{12}{64}$ | $\\frac{12}{128}$ |\n",
    "| $0.1101$ | $\\frac{13}{16}$ | $\\frac{13}{8}$ | $\\frac{13}{4}$ | $\\frac{13}{32}$ | $\\frac{13}{64}$ | $\\frac{13}{128}$ |\n",
    "| $0.1110$ | $\\frac{14}{16}$ | $\\frac{14}{8}$ | $\\frac{14}{4}$ | $\\frac{14}{32}$ | $\\frac{14}{64}$ | $\\frac{14}{128}$ |\n",
    "| $0.1111$ | $\\frac{15}{16}$ | $\\frac{15}{8}$ | $\\frac{15}{4}$ | $\\frac{15}{32}$ | $\\frac{15}{64}$ | $\\frac{15}{128}$ |\n",
    "\n",
    "\n",
    "\n"
   ]
  },
  {
   "cell_type": "code",
   "execution_count": 1,
   "metadata": {},
   "outputs": [
    {
     "data": {
      "image/png": "[encoded data removed]",
      "text/plain": [
       "<IPython.core.display.Image object>"
      ]
     },
     "metadata": {},
     "output_type": "display_data"
    }
   ],
   "source": [
    "format long\n",
    "v=[8:15];\n",
    "for i=2:7\n",
    "    M(:,i)=v./2^i;\n",
    "end\n",
    "M(:,1) = [];\n",
    "meret=size(M,1)*size(M,2);\n",
    "m=reshape(M,1,meret);\n",
    "plot(m,zeros(1,meret),'mo')\n",
    "axis([0 4 -0.001 0.001])\n",
    "title('M(2,4,-3,2) gepi szamok halmaza')"
   ]
  },
  {
   "cell_type": "code",
   "execution_count": 3,
   "metadata": {},
   "outputs": [
    {
     "name": "stdout",
     "output_type": "stream",
     "text": [
      "ans =    2.220446049250313e-16\n",
      "ans =   1.797693134862316e+308\n",
      "ans =   2.225073858507201e-308\n"
     ]
    }
   ],
   "source": [
    "% Octave epszilon_1 es M_inf es M_-inf\n",
    "eps\n",
    "realmax\n",
    "realmin"
   ]
  },
  {
   "cell_type": "markdown",
   "metadata": {},
   "source": [
    "<br>\n",
    "<br>\n",
    "Dupla (Double) pontosság esetén\n",
    "<br>\n",
    "\n",
    "| $y$ | a jobboldali szomszéd távolsága \n",
    "| --- | --- | \n",
    "| $1$ | $\\approx 2.22 \\cdot 10^{-16}$| \n",
    "| $16$ | $\\approx 3.55 \\cdot 10^{-15}$ | \n",
    "| $1024$ | $\\approx 2.27 \\cdot 10^{-13}$ | \n",
    "| $2^{20} \\approx 10^6$ | $\\approx 2.33 \\cdot 10^{-10}$ | \n",
    "| $2^{52} \\approx 4.5 \\cdot 10^{15}$  | $1$ | \n",
    "| $2^{60} \\approx 1.15 \\cdot 10^{18}$ | $256$ | \n",
    "| $2^{66} \\approx 7.38 \\cdot 10^{19}$ | $8192$ | "
   ]
  },
  {
   "cell_type": "code",
   "execution_count": 7,
   "metadata": {},
   "outputs": [
    {
     "name": "stdout",
     "output_type": "stream",
     "text": [
      "ans = 1\n",
      "ans = 0\n"
     ]
    }
   ],
   "source": [
    "2^66 +8192 == 2^66\n",
    "2^66 +8193 == 2^66"
   ]
  },
  {
   "cell_type": "code",
   "execution_count": 5,
   "metadata": {},
   "outputs": [
    {
     "name": "stdout",
     "output_type": "stream",
     "text": [
      "ans =  NaN\r\n"
     ]
    }
   ],
   "source": [
    "nan\n",
    "%help nan\n",
    "%NaN(5)"
   ]
  }
 ],
 "metadata": {
  "kernelspec": {
   "display_name": "Octave",
   "language": "octave",
   "name": "octave"
  },
  "language_info": {
   "file_extension": ".m",
   "help_links": [
    {
     "text": "GNU Octave",
     "url": "https://www.gnu.org/software/octave/support.html"
    },
    {
     "text": "Octave Kernel",
     "url": "https://github.com/Calysto/octave_kernel"
    },
    {
     "text": "MetaKernel Magics",
     "url": "https://metakernel.readthedocs.io/en/latest/source/README.html"
    }
   ],
   "mimetype": "text/x-octave",
   "name": "octave",
   "version": "5.1.0"
  }
 },
 "nbformat": 4,
 "nbformat_minor": 2
}
