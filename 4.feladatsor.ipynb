{
 "cells": [
  {
   "cell_type": "markdown",
   "metadata": {},
   "source": [
    "## <center>4. Feladatsor</center>"
   ]
  },
  {
   "cell_type": "markdown",
   "metadata": {},
   "source": [
    "### <center>Direkt módszerek lineáris algebrai egyenletrendszerek meghatározására</center>"
   ]
  },
  {
   "cell_type": "markdown",
   "metadata": {},
   "source": [
    "<b>1.feladat.</b> Oldjuk meg Gauss-elimináció segítségével az \n",
    "\n",
    "$$\n",
    "\\begin{pmatrix}\n",
    "8 & -6 & -7 & 5 \\\\\n",
    "2 & -1 & -2 &  1 \\\\\n",
    "6  & 1  & -9 & 2 \\\\\n",
    "-2 & -5 & 4 & 0 \n",
    "\\end{pmatrix}\n",
    "\\begin{pmatrix}\n",
    "x_1 \\\\ x_2 \\\\ x_3 \\\\ x_4 \n",
    "\\end{pmatrix}\n",
    "=\n",
    "\\begin{pmatrix}\n",
    "-28 \\\\ -7 \\\\ -23 \\\\8\n",
    "\\end{pmatrix}\n",
    "$$\n",
    "\n",
    "\n",
    "\n",
    "alábbi egyenletrendszert! Számításainkat géppel is ellenőrizzük!"
   ]
  },
  {
   "cell_type": "code",
   "execution_count": null,
   "metadata": {},
   "outputs": [],
   "source": []
  },
  {
   "cell_type": "markdown",
   "metadata": {},
   "source": [
    "<br>\n",
    "<b>2.feladat.</b> Határozzuk meg az alábbi \n",
    "\n",
    "$$\n",
    "A=\\begin{pmatrix}\n",
    "-4 & 1 & -1 \\\\\n",
    "-1 & 4 & -1\\\\\n",
    "1 & 1 & 4\n",
    "\\end{pmatrix}\n",
    "$$\n",
    "\n",
    "\n",
    "\n",
    "mátrix LU-felbontását! Számításainkat géppel is ellenőrizzük!"
   ]
  },
  {
   "cell_type": "code",
   "execution_count": null,
   "metadata": {},
   "outputs": [],
   "source": []
  },
  {
   "cell_type": "markdown",
   "metadata": {},
   "source": [
    "<br>\n",
    "<b>3.feladat.</b> Határozzuk meg az alábbi \n",
    "\n",
    "$$\n",
    "A=\\begin{pmatrix}\n",
    "5 & 7 & 3 \\\\\n",
    "7 & 11 & 2\\\\\n",
    "3 & 2 & 6\n",
    "\\end{pmatrix}\n",
    "$$\n",
    "\n",
    "\n",
    "\n",
    "mátrix Cholesky-felbontását! Számításainkat géppel is ellenőrizzük!"
   ]
  },
  {
   "cell_type": "code",
   "execution_count": null,
   "metadata": {},
   "outputs": [],
   "source": []
  },
  {
   "cell_type": "code",
   "execution_count": null,
   "metadata": {},
   "outputs": [],
   "source": []
  },
  {
   "cell_type": "code",
   "execution_count": null,
   "metadata": {},
   "outputs": [],
   "source": []
  }
 ],
 "metadata": {
  "kernelspec": {
   "display_name": "Octave",
   "language": "octave",
   "name": "octave"
  },
  "language_info": {
   "file_extension": ".m",
   "help_links": [
    {
     "text": "GNU Octave",
     "url": "https://www.gnu.org/software/octave/support.html"
    },
    {
     "text": "Octave Kernel",
     "url": "https://github.com/Calysto/octave_kernel"
    },
    {
     "text": "MetaKernel Magics",
     "url": "https://github.com/calysto/metakernel/blob/master/metakernel/magics/README.md"
    }
   ],
   "mimetype": "text/x-octave",
   "name": "octave",
   "version": "4.2.2"
  }
 },
 "nbformat": 4,
 "nbformat_minor": 2
}
